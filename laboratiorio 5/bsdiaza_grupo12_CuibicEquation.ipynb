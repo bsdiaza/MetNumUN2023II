{
  "nbformat": 4,
  "nbformat_minor": 0,
  "metadata": {
    "colab": {
      "provenance": [],
      "include_colab_link": true
    },
    "kernelspec": {
      "name": "python3",
      "display_name": "Python 3"
    },
    "language_info": {
      "name": "python"
    }
  },
  "cells": [
    {
      "cell_type": "markdown",
      "metadata": {
        "id": "view-in-github",
        "colab_type": "text"
      },
      "source": [
        "<a href=\"https://colab.research.google.com/github/bsdiaza/MetNumUN2023II/blob/main/laboratiorio%205/bsdiaza_grupo12_CuibicEquation.ipynb\" target=\"_parent\"><img src=\"https://colab.research.google.com/assets/colab-badge.svg\" alt=\"Open In Colab\"/></a>"
      ]
    },
    {
      "cell_type": "markdown",
      "source": [
        "Modify [week_1_quadratic_Po_Shen_Loh.ipyn](https://colab.research.google.com/drive/15vXGB18_np6o0Rw8ZV4o08RTdCdDIdT0?usp=sharing) for\n",
        "\n",
        "$$ ax^3+bx^2+cx +d = 0$$\n",
        "\n",
        "using Cubic equation – Cardano–Tartaglia formula- [wikipedia](https://en.wikipedia.org/wiki/Cubic_equation)\n",
        "\n",
        "Asuume $a=1$ then work wequations are of the form\n",
        "\n",
        "$$ x^3+bx^2+cx +d = 0$$\n",
        "\n",
        "Including explanataions. plots, solution code and test cases\n",
        "\n"
      ],
      "metadata": {
        "id": "q5PfhUy3iXZi"
      }
    },
    {
      "cell_type": "code",
      "source": [
        "import numpy as np\n",
        "import matplotlib.pyplot as plt\n",
        "\n",
        "def cubic2(a,b,c,d,x):\n",
        "    return a*x**3+b*x**2+c*x+d\n",
        "\n",
        "def cubic(b,c,d,x):\n",
        "    return x**3 + b*x**2 + c*x + d\n",
        "\n",
        "def cubiqequiv(a,b,c,d,x):\n",
        "    return (x+(b/(3*a)))**3+((3*a*c - b**2)/(3*a**2))*x+(b/(3*a))+((2*b**3-9*a*b*c+27*a**2*d)/(27*a**3))\n",
        "\n",
        "x = np.arange(-3.5, 2, 0.001)\n",
        "z = np.zeros(len(x))\n",
        "y = cubic2(2, 3, 4, -2, x)\n",
        "ynew = cubiqequiv(2, 3, 4, -2, x)\n",
        "plt.plot(x,y, x,ynew, x,z)\n",
        "plt.show()"
      ],
      "metadata": {
        "id": "2etHLiNplRC_",
        "colab": {
          "base_uri": "https://localhost:8080/",
          "height": 430
        },
        "outputId": "bfe6392d-cae8-4a2c-ef5a-101a2e8dbeaf"
      },
      "execution_count": 98,
      "outputs": [
        {
          "output_type": "display_data",
          "data": {
            "text/plain": [
              "<Figure size 640x480 with 1 Axes>"
            ],
            "image/png": "[encoded data removed]"
          },
          "metadata": {}
        }
      ]
    },
    {
      "cell_type": "code",
      "source": [
        "import cmath\n",
        "\n",
        "def solve_quad_Po_Shen_Loh(b, c):\n",
        "\n",
        "    \"\"\"\n",
        "    Solve a quadratic equation, x**2 + bx + c = 0.\n",
        "\n",
        "    Parameters\n",
        "    ----------\n",
        "    b, c : float\n",
        "       Coefficients\n",
        "\n",
        "    Returns\n",
        "    -------\n",
        "    u : The distance from b/2 to x and x2  and -1  if floting-point limitations\n",
        "    x1, x2 : float or complex roots.  \"\"\"\n",
        "\n",
        "    discrim = (b/2)**2 - c\n",
        "    ch = (b/2)**2\n",
        "    if discrim == ch:\n",
        "      u = -1\n",
        "      po_x1 = -b\n",
        "      po_x2 = -(c/-po_x1)\n",
        "\n",
        "    elif discrim >= 0:\n",
        "      u = cmath.sqrt(discrim)\n",
        "      po_x1 = -((b/2) - u)\n",
        "      po_x2 = -((b/2) + u)\n",
        "\n",
        "    else:\n",
        "      u = cmath.sqrt(discrim)\n",
        "      po_x1 = -((b/2) - u)\n",
        "      po_x2 = -((b/2) + u)\n",
        "\n",
        "    return u, po_x1, po_x2"
      ],
      "metadata": {
        "id": "tYhlWCkiU6_1"
      },
      "execution_count": 97,
      "outputs": []
    },
    {
      "cell_type": "code",
      "execution_count": 95,
      "metadata": {
        "id": "o99NfjpaiThf"
      },
      "outputs": [],
      "source": [
        "import cmath\n",
        "import numpy as np\n",
        "from numpy import allclose\n",
        "\n",
        "def solve_cubic(b, c, d):\n",
        "    \"\"\"Solve a cubic equation, x**3 + bx**2 + c*x +d = 0.\n",
        "\n",
        "    Parameters\n",
        "    ----------\n",
        "    b, c,d : float\n",
        "       Coefficients\n",
        "\n",
        "    Returns\n",
        "    -------\n",
        "    x1, x2,x3 : float or complex\n",
        "       Roots.  \"\"\"\n",
        "\n",
        "    a = 1\n",
        "\n",
        "    discrim_0 = b**2 - 3*a*c\n",
        "    discrim_1 = 2*b**3 - 9*a*b*c + 27*(a**2)*d\n",
        "\n",
        "    E = (-1 + (-3)**(1/2)) / 2\n",
        "\n",
        "    C1 = ((discrim_1 + cmath.sqrt((discrim_1**2 - 4*discrim_0**3)))/2)**(1/3)\n",
        "    C2 = ((discrim_1 - cmath.sqrt((discrim_1**2 - 4*discrim_0**3)))/2)**(1/3)\n",
        "\n",
        "    C = C2 if discrim_0 == 0 else C1\n",
        "\n",
        "    fraqs = [(discrim_0 / (C*E**i) if C != 0 else 0) for i in range(3)]\n",
        "\n",
        "    [x1, x2, x3] = [(-(1/(3*a))*(b + C*E**i + fraqs[i])) for i in range(3)]\n",
        "\n",
        "    if (not allclose(cubic(b,c,d,x1), 0.0) or not allclose(cubic(b,c,d,x2), 0.0) or not allclose(cubic(b,c,d,x3), 0.0)):\n",
        "      if(allclose(cubic(b,c,d,x1), 0.0)):\n",
        "        x1 = x1\n",
        "      elif(allclose(cubic(b,c,d,x2), 0.0)):\n",
        "        x1 = x2\n",
        "      elif(allclose(cubic(b,c,d,x3), 0.0)):\n",
        "        x1 = x3\n",
        "\n",
        "      P1 = np.array([1, b, c ,d])\n",
        "      P2 = np.array([1, -x1])\n",
        "\n",
        "      [[po_a, po_b, po_c], y] = np.polydiv(P1, P2)\n",
        "\n",
        "      po_b = po_b / po_a\n",
        "      po_c = po_c / po_a\n",
        "\n",
        "      u, po_x1, po_x2 = solve_quad_Po_Shen_Loh(po_b, po_c)\n",
        "      x2 = po_x1\n",
        "      x3 = po_x2\n",
        "\n",
        "    return x1, x2, x3\n"
      ]
    },
    {
      "cell_type": "markdown",
      "source": [
        "Bulit test cases that include\n",
        "\n",
        "$$(x-1) \\left( x + \\frac{1}{2} + i \\frac{\\sqrt{3}}{2}\\right) \\left( x + \\frac{1}{2} - i \\frac{\\sqrt{3}}{2}\\right) =   x^3 -1 =  0  $$\n",
        "\n",
        "$$(x-1)^3 = x^3 - 3 x^2 + 3 x - 1 = 0 $$\n",
        "\n",
        "$$(x-1)(x-i)(x+i) = x^3 - x^2 + x - 1 = 0 $$\n",
        "\n",
        "$$ (x+2)^2 (x-1) = x^3 + 3 x^2 - 4 = 0  $$\n",
        "three real diferent roots,  roots in the last digits of the group members, root of mtiuplicity two, and complex roots with small and large $b$.\n",
        "\n",
        "**Last digits:**\n"
      ],
      "metadata": {
        "id": "BpvJhj5Zl2lI"
      }
    },
    {
      "cell_type": "code",
      "source": [
        "from numpy import allclose\n",
        "\n",
        "variants = [{'b': 0.0, 'c': 0.0, 'd': -1.0},\n",
        "            {'b': -3.0, 'c': 3.0,  'd':-1.0},\n",
        "            {'b': -1.0, 'c': 1.0,  'd':-1.0},\n",
        "            {'b':  3.0, 'c': 0.0,  'd':-4.0},\n",
        "            {'b':  80.0+5j, 'c': 0.0,  'd':-7.0},\n",
        "            {'b':  10.0+5j, 'c': 20.0,  'd':-2.0j},\n",
        "            {'b':  1000, 'c': 1.0,  'd':4.0},]\n",
        "\n",
        "for var in variants:\n",
        "    x1, x2, x3= solve_cubic(**var)\n",
        "    print(allclose(cubic(var['b'],var['c'],var['d'],x1), 0.0) and allclose(cubic(var['b'],var['c'],var['d'],x2), 0.0) and  allclose(cubic(var['b'],var['c'],var['d'],x3), 0.0))"
      ],
      "metadata": {
        "id": "8fjriYmkmHOw",
        "colab": {
          "base_uri": "https://localhost:8080/"
        },
        "outputId": "f7da05a1-cfea-444b-df66-94bc6eac2356"
      },
      "execution_count": 99,
      "outputs": [
        {
          "output_type": "stream",
          "name": "stdout",
          "text": [
            "True\n",
            "True\n",
            "True\n",
            "True\n",
            "True\n",
            "True\n",
            "False\n"
          ]
        }
      ]
    }
  ]
}